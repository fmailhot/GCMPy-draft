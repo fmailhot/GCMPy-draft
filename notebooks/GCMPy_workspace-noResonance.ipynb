{
 "cells": [
  {
   "cell_type": "markdown",
   "metadata": {},
   "source": [
    "# Set up "
   ]
  },
  {
   "cell_type": "code",
   "execution_count": 1,
   "metadata": {},
   "outputs": [],
   "source": [
    "import math\n",
    "import random\n",
    "%matplotlib inline\n",
    "import matplotlib.pyplot as plt\n",
    "import numpy as np\n",
    "import pandas as pd\n",
    "from pandas import DataFrame\n",
    "from scipy.optimize import minimize\n",
    "import seaborn as sns\n",
    "sns.set(style='ticks', context='paper')\n",
    "colors=[\"#e3c934\",\"#68c4bf\",\"#c51000\",\"#287271\"]\n",
    "sns.set_palette(colors)"
   ]
  },
  {
   "cell_type": "markdown",
   "metadata": {},
   "source": [
    "## Library "
   ]
  },
  {
   "cell_type": "code",
   "execution_count": 2,
   "metadata": {},
   "outputs": [],
   "source": [
    "def barkbark(cloud,formants,formantchar='F'):\n",
    "    # cloud = exemplar cloud, dataframe\n",
    "    # formants = list of formants to be converted (e.g. [\"F1\",\"F2\"])\n",
    "    # formantchar = prefix on all formants (e.g. for \"f1, f2, f3\", use formantchar='f')\n",
    "    \n",
    "    # Make a copy of the cloud\n",
    "    newcloud=cloud.copy()\n",
    "    \n",
    "    # For each formant listed, make a copy of the column prefixed with z\n",
    "    for formant in formants:\n",
    "        name = str(formant).replace(formantchar,'z')\n",
    "        \n",
    "        # Convert each value from Hz to Bark\n",
    "        newcloud[name] = 26.81/ (1+ 1960/newcloud[formant]) - 0.53\n",
    "    # Return the dataframe with the changes\n",
    "    return newcloud"
   ]
  },
  {
   "cell_type": "code",
   "execution_count": 3,
   "metadata": {},
   "outputs": [],
   "source": [
    "def activation(testset,cloud,dims = {'F0':4,'F1':2,'F2':3,'F3':1},c=0.01):\n",
    "    # Get stuff ready                                                   \n",
    "    dims.update((x, (y/sum(dims.values()))) for x, y in dims.items())   # Normalize weights to sum to 1\n",
    "    \n",
    "    # If the testset happens to have N in it, remove it before joining dfs \n",
    "    test=testset.copy()\n",
    "    if 'N' in test.columns:\n",
    "        test = test.drop(columns='N', axis=1,inplace=True)\n",
    "    \n",
    "    exemplars=cloud.copy()\n",
    "\n",
    "    # Merge test and exemplars\n",
    "    bigdf = pd.merge(\n",
    "        test.assign(key=1),         # Add column named 'key' with all values == 1\n",
    "        exemplars.assign(key=1),    # Add column named 'key' with all values == 1\n",
    "        on='key',                   # Match on 'key' to get cross join (cartesian product)\n",
    "        suffixes=['_t', '_ex']\n",
    "    ).drop('key', axis=1)           # Drop 'key' column\n",
    "    \n",
    "    \n",
    "    dimensions=list(dims.keys())                # Get dimensions from dictionary\n",
    "    weights=list(dims.values())                 # Get weights from dictionary\n",
    "    tcols = [f'{d}_t' for d in dimensions]      # Get names of all test columns\n",
    "    excols = [f'{d}_ex' for d in dimensions]    # Get names of all exemplar columns\n",
    "    \n",
    "    \n",
    "    # Multiply each dimension by weights\n",
    "    i = bigdf.loc[:, tcols].values.astype(float)     # Get all the test columns\n",
    "    i *= weights                                     # Multiply test columns by weight\n",
    "    j = bigdf.loc[:, excols].values.astype(float)    # Get all the exemplar columns\n",
    "    j *= weights                                     # Multiply exemplar columns by weights\n",
    "    \n",
    "    # Get Euclidean distance\n",
    "    bigdf['dist'] = np.sqrt(np.sum((i-j)**2, axis=1))\n",
    "    \n",
    "    # get activation: exponent of negative distance * sensitivity c, multiplied by N_j\n",
    "    bigdf['a'] = np.exp(-bigdf.dist*c)*bigdf.N\n",
    "    \n",
    "    return bigdf\n",
    "    "
   ]
  },
  {
   "cell_type": "code",
   "execution_count": 4,
   "metadata": {},
   "outputs": [],
   "source": [
    "def exclude(cloud, test, exclude_self=True, alsoexclude=None):    \n",
    "    # cloud = exemplars, dataframe\n",
    "    # test = exemplar to be categorized\n",
    "    # exclude_self = true or false, should the exemplar not be compared to itself? default true\n",
    "    # alsoexclude = a list of columns in cloud to also exclude\n",
    "    \n",
    "    # Make a copy of the cloud and call it exemplars. \n",
    "    #    This is what we'll return at the end\n",
    "    exemplars = cloud.copy()\n",
    "    \n",
    "    # Remove the stimulus from the cloud\n",
    "    if exclude_self == True:\n",
    "        exemplars=cloud[~cloud.isin(test)].dropna()  \n",
    "    \n",
    "    if alsoexclude != None:\n",
    "        for feature in alsoexclude:\n",
    "            featval=test[feature].iloc[0]\n",
    "            exclude_exemps=exemplars[ exemplars[feature] == featval ].index\n",
    "            exemplars.drop(exclude_exemps, inplace=True)\n",
    "        \n",
    "    return exemplars"
   ]
  },
  {
   "cell_type": "code",
   "execution_count": 5,
   "metadata": {},
   "outputs": [],
   "source": [
    "def reset_N(exemplars, N=1):      # Add or override N, default to 1\n",
    "    exemplars['N'] = N\n",
    "    return exemplars"
   ]
  },
  {
   "cell_type": "code",
   "execution_count": 6,
   "metadata": {},
   "outputs": [],
   "source": [
    "def bias_N(exemplars, catbias): \n",
    "    exemplars['N'] = exemplars['N'] * cltemp[cat].map(bias)\n",
    "    return exemplars"
   ]
  },
  {
   "cell_type": "code",
   "execution_count": 7,
   "metadata": {},
   "outputs": [],
   "source": [
    "def probs(bigdf,cats):\n",
    "    prs = {}\n",
    "    \n",
    "    # Loop over every category in the list of categories\n",
    "    for cat in cats: \n",
    "        # make that category match the exemplar category in name\n",
    "        label = cat+'_ex'\n",
    "        # Sum up activation for every label within that category\n",
    "        cat_a = bigdf.groupby(label).a.sum()\n",
    "        # Divide the activation for each label by the total activation for that category\n",
    "        pr = cat_a/sum(cat_a)\n",
    "        # rename a for activation to probability\n",
    "        pr = pr.rename_axis(cat).reset_index().rename(columns={\"a\":\"probability\"})\n",
    "        # add this to the dictionary \n",
    "        prs[cat]=pr\n",
    "    return prs\n",
    "    "
   ]
  },
  {
   "cell_type": "code",
   "execution_count": 8,
   "metadata": {},
   "outputs": [],
   "source": [
    "def choose(pr,test,cats,runnerup=False):\n",
    "    newtest = test.copy()\n",
    "\n",
    "    for cat in cats:\n",
    "        choicename = cat + 'Choice'\n",
    "        choiceprobname = cat + 'Prob'\n",
    "        \n",
    "        best2 = pr[cat]['probability'].nlargest(n=2).reset_index(drop=True)        # Get the two highest probs for each cat type\n",
    "        \n",
    "        choiceprob = best2[0]                                                      # Match the prob to the category\n",
    "        choice = pr[cat].loc[pr[cat]['probability']==choiceprob,cat].iloc[0]\n",
    "        \n",
    "        newtest[choicename] = choice\n",
    "        newtest[choiceprobname] = choiceprob\n",
    "        \n",
    "        if runnerup == True: \n",
    "            choice2name = cat + 'Choice2'\n",
    "            choice2probname = cat +'Choice2Prob'\n",
    "            choice2prob = best2[1]                                                      \n",
    "            choice2 = pr[cat].loc[pr[cat]['probability']==choice2prob,cat].iloc[0]\n",
    "            newtest[choice2name] = choice2\n",
    "            newtest[choice2probname] = choice2prob\n",
    "            \n",
    "    return newtest"
   ]
  },
  {
   "cell_type": "code",
   "execution_count": 9,
   "metadata": {},
   "outputs": [],
   "source": [
    "def gettestset(cloud,balcat,n):     #Gets n number of rows per cat in given cattype\n",
    "    testlist=[]\n",
    "    for cat in list(cloud[balcat].unique()):\n",
    "        samp = cloud[cloud[balcat]==cat].sample(n)\n",
    "        testlist.append(samp)\n",
    "    test=pd.concat(testlist)\n",
    "    return test"
   ]
  },
  {
   "cell_type": "code",
   "execution_count": 10,
   "metadata": {},
   "outputs": [],
   "source": [
    "def categorize(cloud,testset,cats,dims,c,exclude_self=True,alsoexclude=None):\n",
    "    test=testset\n",
    "    exemplars=exclude(cloud,test,exclude_self=exclude_self,alsoexclude=alsoexclude)\n",
    "    reset_N(exemplars)\n",
    "    bigdf=activation(test,exemplars,dims=dims,c=c)\n",
    "    pr=probs(bigdf,cats)\n",
    "    choices=choose(pr,test,cats)\n",
    "    return choices \n",
    "    "
   ]
  },
  {
   "cell_type": "code",
   "execution_count": 11,
   "metadata": {},
   "outputs": [],
   "source": [
    "def getactiv(activation,x,y,cat):\n",
    "    xname = x + \"_ex\"\n",
    "    yname = y + \"_ex\"\n",
    "    catname = cat + \"_ex\"\n",
    "    \n",
    "    acts = activation['a']\n",
    "    xs = activation[xname]\n",
    "    ys = activation[yname]\n",
    "    cats = activation[catname]\n",
    "    \n",
    "    activ = pd.concat([acts,xs,ys,cats], axis=1)\n",
    "    activ.rename(columns={xname:x, yname:y, catname:cat}, inplace=True)\n",
    "    \n",
    "    return activ\n",
    "    \n",
    "    "
   ]
  },
  {
   "cell_type": "code",
   "execution_count": 12,
   "metadata": {},
   "outputs": [],
   "source": [
    "def activplot(a,x,y,cat, test):\n",
    "    pl = sns.scatterplot(data=a,x=x,y=y,hue=cat,size='a',size_norm=(0,a.a.max()),\n",
    "                     alpha=0.5,sizes=(5,100),legend=False)\n",
    "    pl = sns.scatterplot(data=test, x=x,y=y,alpha=.5,color='darkblue',marker=\"X\", s= 50, legend=False)\n",
    "    pl.invert_xaxis()\n",
    "    pl.invert_yaxis()\n",
    "\n",
    "    return pl"
   ]
  },
  {
   "cell_type": "code",
   "execution_count": 13,
   "metadata": {},
   "outputs": [],
   "source": [
    "def multicat(cloud,testset,cats,dims,c,exclude_self=True,alsoexclude=None):\n",
    "    choicelist=[]\n",
    "    for ix in list(testset.index.values):\n",
    "        test = testset.loc[[ix,]]\n",
    "        exemplars=exclude(cloud,test,exclude_self=exclude_self,alsoexclude=alsoexclude)\n",
    "        reset_N(exemplars)\n",
    "        bigdf=activation(test,exemplars,dims = dims,c=c)\n",
    "        pr=probs(bigdf,cats)\n",
    "        choices = choose(pr,test,cats)\n",
    "        choicelist.append(choices)\n",
    "    choices=pd.concat(choicelist, ignore_index=True)\n",
    "    return choices"
   ]
  },
  {
   "cell_type": "code",
   "execution_count": 14,
   "metadata": {},
   "outputs": [],
   "source": [
    "def checkaccuracy(choices,cats):\n",
    "    acc = choices.copy()                     # Make a copy of choices to muck around with\n",
    "    \n",
    "    for cat in cats:                     # Iterate over your list of cats\n",
    "        accname = cat + 'Acc'            # Get the right column names\n",
    "        choicename = cat + 'Choice'\n",
    "        \n",
    "        # If choice is the same as intended, acc =y, else n\n",
    "        acc[accname] = np.where(acc[cat]==acc[choicename], 'y', 'n')      \n",
    "    return acc"
   ]
  },
  {
   "cell_type": "code",
   "execution_count": 15,
   "metadata": {},
   "outputs": [],
   "source": [
    "def propcorr(acc,cat):\n",
    "    perc = dict(acc.groupby(cat)[cat+'Acc'].value_counts(normalize=True).drop(labels='n',level=1).reset_index(level=1,drop=True))\n",
    "    pc=pd.DataFrame.from_dict(perc, orient='index').reset_index()\n",
    "    pc.columns=[cat,'propcorr']\n",
    "    return pc"
   ]
  },
  {
   "cell_type": "code",
   "execution_count": 16,
   "metadata": {},
   "outputs": [],
   "source": [
    "def overallacc(acc,cat):\n",
    "    totalcorrect = acc[cat+'Acc'].value_counts(normalize=True)['y']\n",
    "    return totalcorrect"
   ]
  },
  {
   "cell_type": "code",
   "execution_count": 17,
   "metadata": {},
   "outputs": [],
   "source": [
    "# Description\n",
    "\n",
    "def accplot(pc,cat,acc):\n",
    "    obs=str(len(acc))\n",
    "    pl = sns.barplot(x=cat,y='propcorr',data=pc,palette=colors)\n",
    "    plt.ylim(0,1.01)\n",
    "    pl.set(ylabel='Proportion accurate of '+obs+' trials')\n",
    "    pl.set_xticklabels(\n",
    "    pl.get_xticklabels(), \n",
    "    rotation=45, \n",
    "    horizontalalignment='right',\n",
    "    fontweight='light',\n",
    "    fontsize='x-large')\n",
    "    plt.show()\n",
    "    return pl"
   ]
  },
  {
   "cell_type": "code",
   "execution_count": 18,
   "metadata": {},
   "outputs": [],
   "source": [
    "def continuum (start,end,cloud,dimlist = ['F0','F1','F2','F3'],steps=7,df=False):\n",
    "    vals = {}\n",
    "    norms = {}\n",
    "    rowlist = []\n",
    "    \n",
    "    st=cloud[cloud['vowel'] == start].sample().reset_index(drop=True) # randomly sample a row with the some start vowel\n",
    "    spkr = st.speaker.iloc[0]                                         # Get the speaker and gender\n",
    "    gen = st.gender.iloc[0]\n",
    "    en=pb52[(cloud.speaker==spkr) & (cloud['vowel']==end)].sample().reset_index(drop=True)  # get a row with the end vowel from same speaker\n",
    "\n",
    "\n",
    "    for dim in dimlist:                      # Calculate the difference between start and end for each dim\n",
    "        norms[dim] = en[dim] - st[dim]                               \n",
    "\n",
    "    for i in range (0,steps):\n",
    "        for dim in dimlist: \n",
    "            vals[dim] = st[dim] + (norms[dim] * i/(steps-1))    # the values for each dim = start val + diff by step\n",
    "            row = pd.DataFrame(vals)\n",
    "            row['vowel'] = '?'\n",
    "            row['speaker'] = spkr\n",
    "            row['gender'] = gen\n",
    "        rowlist.append(row)\n",
    "\n",
    "    rowlist[0]['vowel'] = start                                   # Change start and end vowels\n",
    "    rowlist[-1]['vowel'] = end\n",
    "    cont=pd.concat(rowlist,ignore_index=True)             # concatenate\n",
    "\n",
    "    if df == True:\n",
    "        return cont\n",
    "    else:\n",
    "        return rowlist"
   ]
  },
  {
   "cell_type": "code",
   "execution_count": 19,
   "metadata": {},
   "outputs": [],
   "source": [
    "def FCN(exemplars,start,end):\n",
    "    exemplars['N'] = np.where((exemplars['vowel']==start)|(exemplars['vowel']==end), 1, 0)\n",
    "    return exemplars\n",
    "\n",
    "## Include other speaker characteristics "
   ]
  },
  {
   "cell_type": "code",
   "execution_count": 20,
   "metadata": {},
   "outputs": [],
   "source": [
    "def choosecontinuum(cont,cloud,cats,start,end,FC=False):\n",
    "    exemplars=cloud.copy()\n",
    "    exemplars=exemplars[~exemplars.isin(cont)].dropna()\n",
    "    choicelist = []\n",
    "    for row in cont: \n",
    "        test=row\n",
    "        if FC == True:\n",
    "            FCN(exemplars,start,end)\n",
    "        else:\n",
    "            reset_N(exemplars)\n",
    "        bigdf=activation(test,exemplars)\n",
    "        pr=probs(bigdf,cats)\n",
    "        choices=choose(pr,test,cats)\n",
    "        choicelist.append(choices)\n",
    "    choices=pd.concat(choicelist,ignore_index=True)\n",
    "    return choices\n",
    "        "
   ]
  },
  {
   "cell_type": "code",
   "execution_count": 21,
   "metadata": {},
   "outputs": [],
   "source": [
    "def multiaccplot(choices,cats):\n",
    "    accuracy = checkaccuracy(choices,cats)\n",
    "    for cat in cats:\n",
    "        proportion = propcorr(accuracy,cat)\n",
    "        accplot(proportion,cat,accuracy)\n",
    "        print(proportion)"
   ]
  },
  {
   "cell_type": "code",
   "execution_count": 22,
   "metadata": {},
   "outputs": [],
   "source": [
    "def confusion(choices,cats):\n",
    "    matrices={}\n",
    "    for cat in cats:\n",
    "        matrices[cat]=pd.crosstab(choices[cat],choices[cat+'Choice'],normalize='index').round(2).rename_axis(None)\n",
    "    return matrices"
   ]
  },
  {
   "cell_type": "markdown",
   "metadata": {},
   "source": [
    "## data"
   ]
  },
  {
   "cell_type": "code",
   "execution_count": 23,
   "metadata": {},
   "outputs": [],
   "source": [
    "pb52=pd.read_csv('pb52.csv')"
   ]
  },
  {
   "cell_type": "code",
   "execution_count": 24,
   "metadata": {},
   "outputs": [],
   "source": [
    "pbbark = barkbark(pb52,[\"F0\",\"F1\",\"F2\",\"F3\"])"
   ]
  },
  {
   "cell_type": "markdown",
   "metadata": {},
   "source": [
    "# For paper\n"
   ]
  },
  {
   "cell_type": "code",
   "execution_count": 32,
   "metadata": {},
   "outputs": [],
   "source": [
    "# Set parameters\n",
    "cval=5\n",
    "dimsvals={'z0':1,'z1':2.953,'z2':.924,'z3':3.420}\n",
    "catslist=['vowel','type']\n",
    "pbtest=pbbark.copy()\n",
    "test=pbbark.sample()"
   ]
  },
  {
   "cell_type": "code",
   "execution_count": 39,
   "metadata": {},
   "outputs": [],
   "source": [
    "reset_N(pbtest)\n",
    "exem=exclude(pbtest, test, exclude_self=True) \n",
    "a = activation(test,exem,dims = dimsvals,c=cval)"
   ]
  },
  {
   "cell_type": "code",
   "execution_count": 40,
   "metadata": {},
   "outputs": [],
   "source": [
    "b=getactiv(a,\"z2\",\"z1\",\"vowel\")"
   ]
  },
  {
   "cell_type": "code",
   "execution_count": 41,
   "metadata": {},
   "outputs": [
    {
     "data": {
      "text/plain": [
       "<matplotlib.axes._subplots.AxesSubplot at 0x7fe938579b50>"
      ]
     },
     "execution_count": 41,
     "metadata": {},
     "output_type": "execute_result"
    },
    {
     "data": {
      "image/png": "[encoded data removed]",
      "text/plain": [
       "<Figure size 432x288 with 1 Axes>"
      ]
     },
     "metadata": {},
     "output_type": "display_data"
    }
   ],
   "source": [
    "activplot(b,\"z2\",'z1','vowel',test=test)"
   ]
  },
  {
   "cell_type": "code",
   "execution_count": 42,
   "metadata": {},
   "outputs": [
    {
     "data": {
      "text/html": [
       "<div>\n",
       "<style scoped>\n",
       "    .dataframe tbody tr th:only-of-type {\n",
       "        vertical-align: middle;\n",
       "    }\n",
       "\n",
       "    .dataframe tbody tr th {\n",
       "        vertical-align: top;\n",
       "    }\n",
       "\n",
       "    .dataframe thead th {\n",
       "        text-align: right;\n",
       "    }\n",
       "</style>\n",
       "<table border=\"1\" class=\"dataframe\">\n",
       "  <thead>\n",
       "    <tr style=\"text-align: right;\">\n",
       "      <th></th>\n",
       "      <th>type</th>\n",
       "      <th>gender</th>\n",
       "      <th>speaker</th>\n",
       "      <th>vowel</th>\n",
       "      <th>repetition</th>\n",
       "      <th>F0</th>\n",
       "      <th>F1</th>\n",
       "      <th>F2</th>\n",
       "      <th>F3</th>\n",
       "      <th>z0</th>\n",
       "      <th>z1</th>\n",
       "      <th>z2</th>\n",
       "      <th>z3</th>\n",
       "    </tr>\n",
       "  </thead>\n",
       "  <tbody>\n",
       "    <tr>\n",
       "      <th>187</th>\n",
       "      <td>m</td>\n",
       "      <td>m</td>\n",
       "      <td>10</td>\n",
       "      <td>TRAP</td>\n",
       "      <td>2</td>\n",
       "      <td>120</td>\n",
       "      <td>624</td>\n",
       "      <td>1700</td>\n",
       "      <td>2475</td>\n",
       "      <td>1.016731</td>\n",
       "      <td>5.944241</td>\n",
       "      <td>11.922732</td>\n",
       "      <td>14.431612</td>\n",
       "    </tr>\n",
       "  </tbody>\n",
       "</table>\n",
       "</div>"
      ],
      "text/plain": [
       "    type gender  speaker vowel  repetition   F0   F1    F2    F3        z0  \\\n",
       "187    m      m       10  TRAP           2  120  624  1700  2475  1.016731   \n",
       "\n",
       "           z1         z2         z3  \n",
       "187  5.944241  11.922732  14.431612  "
      ]
     },
     "execution_count": 42,
     "metadata": {},
     "output_type": "execute_result"
    }
   ],
   "source": [
    "test"
   ]
  },
  {
   "cell_type": "code",
   "execution_count": 44,
   "metadata": {},
   "outputs": [
    {
     "data": {
      "text/html": [
       "<div>\n",
       "<style scoped>\n",
       "    .dataframe tbody tr th:only-of-type {\n",
       "        vertical-align: middle;\n",
       "    }\n",
       "\n",
       "    .dataframe tbody tr th {\n",
       "        vertical-align: top;\n",
       "    }\n",
       "\n",
       "    .dataframe thead th {\n",
       "        text-align: right;\n",
       "    }\n",
       "</style>\n",
       "<table border=\"1\" class=\"dataframe\">\n",
       "  <thead>\n",
       "    <tr style=\"text-align: right;\">\n",
       "      <th></th>\n",
       "      <th>a</th>\n",
       "      <th>z2</th>\n",
       "      <th>z1</th>\n",
       "      <th>vowel</th>\n",
       "    </tr>\n",
       "  </thead>\n",
       "  <tbody>\n",
       "    <tr>\n",
       "      <th>0</th>\n",
       "      <td>0.005399</td>\n",
       "      <td>13.886698</td>\n",
       "      <td>2.394727</td>\n",
       "      <td>FLEECE</td>\n",
       "    </tr>\n",
       "    <tr>\n",
       "      <th>1</th>\n",
       "      <td>0.009431</td>\n",
       "      <td>14.227798</td>\n",
       "      <td>2.821250</td>\n",
       "      <td>FLEECE</td>\n",
       "    </tr>\n",
       "    <tr>\n",
       "      <th>2</th>\n",
       "      <td>0.057053</td>\n",
       "      <td>13.110175</td>\n",
       "      <td>3.919319</td>\n",
       "      <td>KIT</td>\n",
       "    </tr>\n",
       "    <tr>\n",
       "      <th>3</th>\n",
       "      <td>0.029969</td>\n",
       "      <td>12.943046</td>\n",
       "      <td>3.131278</td>\n",
       "      <td>KIT</td>\n",
       "    </tr>\n",
       "    <tr>\n",
       "      <th>4</th>\n",
       "      <td>0.228457</td>\n",
       "      <td>12.560000</td>\n",
       "      <td>4.832000</td>\n",
       "      <td>DRESS</td>\n",
       "    </tr>\n",
       "    <tr>\n",
       "      <th>...</th>\n",
       "      <td>...</td>\n",
       "      <td>...</td>\n",
       "      <td>...</td>\n",
       "      <td>...</td>\n",
       "    </tr>\n",
       "    <tr>\n",
       "      <th>1514</th>\n",
       "      <td>0.002264</td>\n",
       "      <td>11.309174</td>\n",
       "      <td>5.833463</td>\n",
       "      <td>FOOT</td>\n",
       "    </tr>\n",
       "    <tr>\n",
       "      <th>1515</th>\n",
       "      <td>0.001341</td>\n",
       "      <td>9.910031</td>\n",
       "      <td>5.091452</td>\n",
       "      <td>GOOSE</td>\n",
       "    </tr>\n",
       "    <tr>\n",
       "      <th>1516</th>\n",
       "      <td>0.001790</td>\n",
       "      <td>9.329161</td>\n",
       "      <td>4.919187</td>\n",
       "      <td>GOOSE</td>\n",
       "    </tr>\n",
       "    <tr>\n",
       "      <th>1517</th>\n",
       "      <td>0.050586</td>\n",
       "      <td>12.487979</td>\n",
       "      <td>6.817926</td>\n",
       "      <td>NURSE</td>\n",
       "    </tr>\n",
       "    <tr>\n",
       "      <th>1518</th>\n",
       "      <td>0.083034</td>\n",
       "      <td>12.415198</td>\n",
       "      <td>6.223664</td>\n",
       "      <td>NURSE</td>\n",
       "    </tr>\n",
       "  </tbody>\n",
       "</table>\n",
       "<p>1519 rows × 4 columns</p>\n",
       "</div>"
      ],
      "text/plain": [
       "             a         z2        z1   vowel\n",
       "0     0.005399  13.886698  2.394727  FLEECE\n",
       "1     0.009431  14.227798  2.821250  FLEECE\n",
       "2     0.057053  13.110175  3.919319     KIT\n",
       "3     0.029969  12.943046  3.131278     KIT\n",
       "4     0.228457  12.560000  4.832000   DRESS\n",
       "...        ...        ...       ...     ...\n",
       "1514  0.002264  11.309174  5.833463    FOOT\n",
       "1515  0.001341   9.910031  5.091452   GOOSE\n",
       "1516  0.001790   9.329161  4.919187   GOOSE\n",
       "1517  0.050586  12.487979  6.817926   NURSE\n",
       "1518  0.083034  12.415198  6.223664   NURSE\n",
       "\n",
       "[1519 rows x 4 columns]"
      ]
     },
     "execution_count": 44,
     "metadata": {},
     "output_type": "execute_result"
    }
   ],
   "source": [
    "b"
   ]
  },
  {
   "cell_type": "code",
   "execution_count": null,
   "metadata": {},
   "outputs": [],
   "source": []
  }
 ],
 "metadata": {
  "kernelspec": {
   "display_name": "Python 3",
   "language": "python",
   "name": "python3"
  },
  "language_info": {
   "codemirror_mode": {
    "name": "ipython",
    "version": 3
   },
   "file_extension": ".py",
   "mimetype": "text/x-python",
   "name": "python",
   "nbconvert_exporter": "python",
   "pygments_lexer": "ipython3",
   "version": "3.8.6"
  }
 },
 "nbformat": 4,
 "nbformat_minor": 4
}
